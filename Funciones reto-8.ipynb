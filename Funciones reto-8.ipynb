{
 "cells": [
  {
   "cell_type": "code",
   "execution_count": null,
   "metadata": {},
   "outputs": [],
   "source": [
    "for n in range(1, 101):\n",
    "    print(\"Numero \" + str(n) + \" , Cuadrado = \" + str(n*n) +  \" \")"
   ]
  },
  {
   "cell_type": "code",
   "execution_count": null,
   "metadata": {},
   "outputs": [],
   "source": [
    "print(\"Numeros impares del 1 al 999:\")\n",
    "for n_par in range(1, 1000, 2):\n",
    "    print(\"\" + str(n_par) + \"\")\n",
    "print(\"Numeros pares del 2 al 1000:\")\n",
    "for n_impar in range(2, 1001, 2):\n",
    "    print(\"\" + str(n_impar) + \"\")"
   ]
  },
  {
   "cell_type": "code",
   "execution_count": null,
   "metadata": {},
   "outputs": [],
   "source": [
    "n = int(input(\"Escriba un numero natural par mayor o igual que dos\"))\n",
    "if n < 2:\n",
    "    print(\"El numero escrito no es válido. Debe ser mayor o igual a 2\")\n",
    "else:\n",
    "    print(\"Los numeros pares descendentes hasta 2 son:\")\n",
    "    for i in range(n, 1, -1):\n",
    "        if i % 2 == 0:\n",
    "            print(\"\" + str(i) + \"\")"
   ]
  },
  {
   "cell_type": "code",
   "execution_count": null,
   "metadata": {},
   "outputs": [],
   "source": [
    "n = int(input(\"Escriba un número natural positivo \"))\n",
    "if n < 1:\n",
    "    print(\"El numero escrito no es valido. Debe ser mayor o igual a 1\")\n",
    "else:\n",
    "    print(\"Numero   Factorial\")\n",
    "    for i in range(1, n + 1):\n",
    "        fact = 1\n",
    "        for j in range(1, i + 1):\n",
    "            fact *= j\n",
    "        print(\"\" + str(i) + \"        \" + str(fact) + \"\")"
   ]
  },
  {
   "cell_type": "code",
   "execution_count": null,
   "metadata": {},
   "outputs": [],
   "source": [
    "n = int(input(\"Escriba un numero positivo que va ser el exponente de 2\"))\n",
    "if n < 0:\n",
    "    print(\"El exponente debe ser un numero entero no negativo\")\n",
    "else:\n",
    "    exp = 1\n",
    "    for n in range(n):\n",
    "        exp *= 2\n",
    "    print(\"2 elevado a la potencia \" + str(n + 1) + \" es igual a: \" + str(exp) + \"\")"
   ]
  },
  {
   "cell_type": "code",
   "execution_count": null,
   "metadata": {},
   "outputs": [],
   "source": [
    "def pot(x, n):\n",
    "  exp = 1\n",
    "  for n in range(n):\n",
    "    exp *= x\n",
    "  return exp\n",
    "x = float(input(\"Escriba un numero real\"))\n",
    "n = int(input(\"Escriba un numero natural\"))\n",
    "pot_x_n = pot(x, n)\n",
    "print(\"El resultado de \" + str(x) + \"  elevado a \" + str(n) + \" es  \" + str(pot_x_n) + \"\")"
   ]
  },
  {
   "cell_type": "code",
   "execution_count": null,
   "metadata": {},
   "outputs": [],
   "source": [
    "for n in range(1, 10):\n",
    "    print(\"Tabla de multiplicar del \" + str(n) + \"\")\n",
    "    for i in range(1, 11):\n",
    "        operacion = n * i\n",
    "        print(\"\" + str(n) + \" x \" + str(i) + \" = \" + str(operacion) + \"\")\n",
    "    print()"
   ]
  },
  {
   "cell_type": "code",
   "execution_count": 2,
   "metadata": {},
   "outputs": [
    {
     "name": "stdout",
     "output_type": "stream",
     "text": [
      "Aproximación de e elevado a 2.0: 7.389056095384136\n",
      "El valor real de e elevado a 2.0: 7.38905609893065\n",
      "Diferencia: 3.546514193430994e-09\n",
      "Se obtiene menos del 0.1% de error con 16 términos.\n"
     ]
    }
   ],
   "source": [
    "import math\n",
    "def aprox_exp(x, n):\n",
    "    aprox = 0\n",
    "    for k in range(n):\n",
    "        aprox += (x ** k) / math.factorial(k)\n",
    "    return aprox\n",
    "def main():\n",
    "    x = float(input(\"Escribe un numero real: \"))\n",
    "    n = int(input(\"Escribe el numero de términos a ejecutar: \"))\n",
    "    aprox = aprox_exp(x, n)\n",
    "    v_real = math.exp(x)\n",
    "    error = abs((aprox - v_real) / v_real) * 100\n",
    "    print(\"Aproximación de e elevado a \" + str(x) + \": \" + str(aprox))\n",
    "    print(\"El valor real de e elevado a \" + str(x) + \": \" + str(v_real))\n",
    "    print(\"Diferencia: \" + str(abs(aprox - v_real)))\n",
    "    while error >= 0.1:\n",
    "        n += 1\n",
    "        aprox = aprox_exp(x, n)\n",
    "        error = abs((aprox - v_real) / v_real) * 100 \n",
    "    print(\"Se obtiene menos del 0.1% de error con \" + str(n) + \" términos.\")\n",
    "if __name__ == \"__main__\":\n",
    "    main()"
   ]
  },
  {
   "cell_type": "code",
   "execution_count": 3,
   "metadata": {},
   "outputs": [
    {
     "name": "stdout",
     "output_type": "stream",
     "text": [
      "Aproximación de sin(x): -0.7568003190686036\n",
      "El valor real de sin(x): -0.7568024953079282\n",
      "Diferencia: 2.1762393246360645e-06\n",
      "Se obtiene menos del 0.1% de error con 9 términos.\n"
     ]
    }
   ],
   "source": [
    "import math\n",
    "def aprox_seno(x, n):\n",
    "    aprox = 0\n",
    "    for k in range(n):\n",
    "        aprox += ((-1) ** k) * (x ** (2 * k + 1)) / math.factorial(2 * k + 1)\n",
    "    return aprox\n",
    "def main():\n",
    "    x = float(input(\"Escribe un numero real: \"))\n",
    "    n = int(input(\"Ingrese el número de términos a ejecutar: \"))\n",
    "    aprox = aprox_seno(x, n)\n",
    "    v_real = math.sin(x)\n",
    "    print(\"Aproximación de sin(x): \" + str(aprox))\n",
    "    print(\"El valor real de sin(x): \" + str(v_real))\n",
    "    print(\"Diferencia: \" + str(abs(aprox - v_real)))\n",
    "    error = abs((aprox - v_real) / v_real) * 100\n",
    "    while error >= 0.1:\n",
    "        n += 1\n",
    "        aprox = aprox_seno(x, n)\n",
    "        error = abs((aprox - v_real) / v_real) * 100\n",
    "    print(\"Se obtiene menos del 0.1% de error con \" + str(n) + \" términos.\")\n",
    "if __name__ == \"__main__\":\n",
    "    main()"
   ]
  },
  {
   "cell_type": "code",
   "execution_count": 5,
   "metadata": {},
   "outputs": [
    {
     "name": "stdout",
     "output_type": "stream",
     "text": [
      "Aproximación de arctan(x): 0.790953033504689\n",
      "El valor real de arctan(x): 0.7853981633974483\n",
      "Diferencia: 0.005554870107240761\n",
      "Se obtiene menos del 0.1% de error con 319 términos.\n"
     ]
    }
   ],
   "source": [
    "import math\n",
    "def aprox_arcotan(x, n):\n",
    "    aprox = 0\n",
    "    for k in range(n):\n",
    "        termino = ((-1) ** k) * (x ** (2 * k + 1)) / (2 * k + 1)\n",
    "        aprox += termino\n",
    "    return aprox\n",
    "def main():\n",
    "    x = float(input(\"Escribe un numero real entre [-1, 1]: \"))\n",
    "    if x < -1 or x > 1:\n",
    "        print(\"El valor debe estar en el rango [-1, 1].\")\n",
    "        return\n",
    "    n = int(input(\"Ingrese el número de términos a ejecutar: \"))\n",
    "    aprox = aprox_arcotan(x, n)\n",
    "    v_real = math.atan(x)\n",
    "    print(\"Aproximación de arctan(x): \" + str(aprox))\n",
    "    print(\"El valor real de arctan(x): \" + str(v_real))\n",
    "    print(\"Diferencia: \" + str(abs(aprox - v_real)))\n",
    "    error = abs((aprox - v_real) / v_real) * 100\n",
    "    while error >= 0.1:\n",
    "        n += 1\n",
    "        aprox = aprox_arcotan(x, n)\n",
    "        error = abs((aprox - v_real) / v_real) * 100\n",
    "    print(\"Se obtiene menos del 0.1% de error con \" + str(n) + \" términos.\")\n",
    "if __name__ == \"__main__\":\n",
    "    main()"
   ]
  }
 ],
 "metadata": {
  "kernelspec": {
   "display_name": "Python 3",
   "language": "python",
   "name": "python3"
  },
  "language_info": {
   "codemirror_mode": {
    "name": "ipython",
    "version": 3
   },
   "file_extension": ".py",
   "mimetype": "text/x-python",
   "name": "python",
   "nbconvert_exporter": "python",
   "pygments_lexer": "ipython3",
   "version": "3.11.8"
  }
 },
 "nbformat": 4,
 "nbformat_minor": 2
}
